{
 "cells": [
  {
   "cell_type": "code",
   "execution_count": 25,
   "metadata": {},
   "outputs": [],
   "source": [
    "import os\n",
    "import pandas as pd\n",
    "import openai\n",
    "import tiktoken\n",
    "from PyPDF2 import PdfReader\n",
    "from tqdm import tqdm\n",
    "from dotenv import load_dotenv"
   ]
  },
  {
   "cell_type": "code",
   "execution_count": 26,
   "metadata": {},
   "outputs": [],
   "source": [
    "# 讀取 .env 設定\n",
    "load_dotenv()\n",
    "openai.api_key = os.environ['OPENAI_API_KEY']"
   ]
  },
  {
   "cell_type": "code",
   "execution_count": 27,
   "metadata": {},
   "outputs": [],
   "source": [
    "# 讀取 Excel 檔案，包含 91 個問題及其標籤\n",
    "excel_path = \"data/tcfd第四層接露指引.xlsx\"\n",
    "df_questions = pd.read_excel(excel_path)"
   ]
  },
  {
   "cell_type": "code",
   "execution_count": 28,
   "metadata": {},
   "outputs": [
    {
     "data": {
      "text/html": [
       "<div>\n",
       "<style scoped>\n",
       "    .dataframe tbody tr th:only-of-type {\n",
       "        vertical-align: middle;\n",
       "    }\n",
       "\n",
       "    .dataframe tbody tr th {\n",
       "        vertical-align: top;\n",
       "    }\n",
       "\n",
       "    .dataframe thead th {\n",
       "        text-align: right;\n",
       "    }\n",
       "</style>\n",
       "<table border=\"1\" class=\"dataframe\">\n",
       "  <thead>\n",
       "    <tr style=\"text-align: right;\">\n",
       "      <th></th>\n",
       "      <th>Label</th>\n",
       "      <th>Definition</th>\n",
       "    </tr>\n",
       "  </thead>\n",
       "  <tbody>\n",
       "    <tr>\n",
       "      <th>0</th>\n",
       "      <td>G-1-1_1</td>\n",
       "      <td>公司是否描述向董事會和/或董事會下設委員會，定期報告氣候相關風險與機會之流程？</td>\n",
       "    </tr>\n",
       "    <tr>\n",
       "      <th>1</th>\n",
       "      <td>G-1-1_2</td>\n",
       "      <td>公司是否描述向董事會和/或董事會下設委員會，報告氣候相關風險與機會之頻率？</td>\n",
       "    </tr>\n",
       "    <tr>\n",
       "      <th>2</th>\n",
       "      <td>G-1-2_3</td>\n",
       "      <td>公司是否描述董事會和/或董事會下設委員會，在監督和指導策略、重要行動計畫、風險管理政策、年度...</td>\n",
       "    </tr>\n",
       "    <tr>\n",
       "      <th>3</th>\n",
       "      <td>G-1-2_4</td>\n",
       "      <td>公司是否描述董事會和/或董事會下設委員會，在監督重要資本支出、企業收購和撤資時，考量氣候相關...</td>\n",
       "    </tr>\n",
       "    <tr>\n",
       "      <th>4</th>\n",
       "      <td>G-1-3_5</td>\n",
       "      <td>公司是否描述董事會或其所屬和/或指派之委員會如何監督風險與機會目標之實現？</td>\n",
       "    </tr>\n",
       "    <tr>\n",
       "      <th>...</th>\n",
       "      <td>...</td>\n",
       "      <td>...</td>\n",
       "    </tr>\n",
       "    <tr>\n",
       "      <th>86</th>\n",
       "      <td>MT-3-2_78</td>\n",
       "      <td>公司設定目標時，是否有描述衡量進度情況的基準年份？</td>\n",
       "    </tr>\n",
       "    <tr>\n",
       "      <th>87</th>\n",
       "      <td>MT-3-2_79</td>\n",
       "      <td>公司設定目標時，是否有描述評估目標進展情況的重要績效指標？</td>\n",
       "    </tr>\n",
       "    <tr>\n",
       "      <th>88</th>\n",
       "      <td>MT-3-3_80</td>\n",
       "      <td>公司是否依總體或業務劃分揭露中期目標？</td>\n",
       "    </tr>\n",
       "    <tr>\n",
       "      <th>89</th>\n",
       "      <td>MT-3-3_81</td>\n",
       "      <td>公司是否依總體或業務劃分揭露長期目標？</td>\n",
       "    </tr>\n",
       "    <tr>\n",
       "      <th>90</th>\n",
       "      <td>MT-3-4_82</td>\n",
       "      <td>公司是否有計算目標和計量方法不易鑑別之描述？</td>\n",
       "    </tr>\n",
       "  </tbody>\n",
       "</table>\n",
       "<p>91 rows × 2 columns</p>\n",
       "</div>"
      ],
      "text/plain": [
       "        Label                                         Definition\n",
       "0     G-1-1_1            公司是否描述向董事會和/或董事會下設委員會，定期報告氣候相關風險與機會之流程？\n",
       "1     G-1-1_2              公司是否描述向董事會和/或董事會下設委員會，報告氣候相關風險與機會之頻率？\n",
       "2     G-1-2_3  公司是否描述董事會和/或董事會下設委員會，在監督和指導策略、重要行動計畫、風險管理政策、年度...\n",
       "3     G-1-2_4  公司是否描述董事會和/或董事會下設委員會，在監督重要資本支出、企業收購和撤資時，考量氣候相關...\n",
       "4     G-1-3_5              公司是否描述董事會或其所屬和/或指派之委員會如何監督風險與機會目標之實現？\n",
       "..        ...                                                ...\n",
       "86  MT-3-2_78                          公司設定目標時，是否有描述衡量進度情況的基準年份？\n",
       "87  MT-3-2_79                      公司設定目標時，是否有描述評估目標進展情況的重要績效指標？\n",
       "88  MT-3-3_80                                公司是否依總體或業務劃分揭露中期目標？\n",
       "89  MT-3-3_81                                公司是否依總體或業務劃分揭露長期目標？\n",
       "90  MT-3-4_82                             公司是否有計算目標和計量方法不易鑑別之描述？\n",
       "\n",
       "[91 rows x 2 columns]"
      ]
     },
     "execution_count": 28,
     "metadata": {},
     "output_type": "execute_result"
    }
   ],
   "source": [
    "df_questions"
   ]
  },
  {
   "cell_type": "code",
   "execution_count": 29,
   "metadata": {},
   "outputs": [],
   "source": [
    "# 假設 Excel 檔案有 'Label' 和 'Question' 欄位\n",
    "questions = df_questions[['Label', 'Definition']].dropna().values.tolist()"
   ]
  },
  {
   "cell_type": "code",
   "execution_count": 30,
   "metadata": {},
   "outputs": [
    {
     "data": {
      "text/plain": [
       "[['G-1-1_1', '公司是否描述向董事會和/或董事會下設委員會，定期報告氣候相關風險與機會之流程？'],\n",
       " ['G-1-1_2', '公司是否描述向董事會和/或董事會下設委員會，報告氣候相關風險與機會之頻率？'],\n",
       " ['G-1-2_3',\n",
       "  '公司是否描述董事會和/或董事會下設委員會，在監督和指導策略、重要行動計畫、風險管理政策、年度預算和營業計畫、公司的營業目標、計畫實施和執行情況時，考量氣候相關風險與機會？'],\n",
       " ['G-1-2_4', '公司是否描述董事會和/或董事會下設委員會，在監督重要資本支出、企業收購和撤資時，考量氣候相關風險與機會？'],\n",
       " ['G-1-3_5', '公司是否描述董事會或其所屬和/或指派之委員會如何監督風險與機會目標之實現？'],\n",
       " ['G-2-1_6', '公司是否描述已分派氣候相關責任給管理職位或委員會？'],\n",
       " ['G-2-1_7', '公司是否描述該管理職位或委員會向董事會或董事會下設委員會進行報告？'],\n",
       " ['G-2-1_8', '公司是否描述已分派之職責包含評估和/或管理氣候相關風險與機會？'],\n",
       " ['G-2-2_9', '公司是否有對氣候相關組織結構之描述？'],\n",
       " ['G-2-2_10', '公司是否描述有跨部門之氣候相關工作小組統籌執行相關工作？'],\n",
       " ['G-2-3_11', '公司是否描述執行管理階層掌握氣候相關風險與機會之流程？'],\n",
       " ['G-2-4_12', '公司是否提供管理階層透過特定職位監控氣候相關風險與機會之說明？'],\n",
       " ['G-2-4_13', '公司是否提供管理階層透過委員會監控氣候相關風險與機會之說明？'],\n",
       " ['S-1-1_14', '公司是否描述「短期」的氣候相關風險與機會，並考量其資產或基礎設施的使用壽命？'],\n",
       " ['S-1-1_15',\n",
       "  '公司是否描述「中期」的氣候相關風險與機會，並考量其資產或基礎設施的使用壽命，以及中期對公司與供應鏈潛在的氣候相關風險與機會？'],\n",
       " ['S-1-1_16',\n",
       "  '公司是否描述「長期」的氣候相關風險與機會，並考量其資產或基礎設施的使用壽命，以及長期對公司與供應鏈潛在的氣候相關風險與機會？'],\n",
       " ['S-1-2_17', '公司應描述在「短期」的時間長度下，可能會產生重大財務影響的氣候相關風險與機會？'],\n",
       " ['S-1-2_18', '公司應描述在「中期」的時間長度下，可能會產生重大財務影響的氣候相關風險與機會？'],\n",
       " ['S-1-2_19', '公司應描述在「長期」的時間長度下，可能會產生重大財務影響的氣候相關風險與機會？'],\n",
       " ['S-1-3_20', '公司是否描述決定哪些風險與機會可能對公司造成重大財務影響的流程？'],\n",
       " ['S-1-4_21', '公司是否考量按部門來描述風險與機會？'],\n",
       " ['S-1-4_22', '公司是否考量按地區來描述風險與機會？'],\n",
       " ['#S-1-5_#S1', '銀行是否描述碳相關資產的信用風險顯著集中度？'],\n",
       " ['#S-1-5_#S2', '銀行是否有考慮在貸款和其他金融中介業務活動中揭露與氣候相關的風險（轉型風險及實體風險）？'],\n",
       " ['S-2-1_23', '公司是否揭露對「產品與服務」之業務和策略的影響？'],\n",
       " ['S-2-1_24', '公司是否揭露對「供應鏈或價值鏈」之業務和策略的影響？'],\n",
       " ['S-2-1_25', '公司是否揭露對「調適與減緩活動」之業務和策略的影響？'],\n",
       " ['S-2-1_26', '公司是否揭露對「研發投資」之業務和策略的影響？'],\n",
       " ['S-2-1_27', '公司是否揭露對「業務經營（包括業務類型和設施所在地）」之業務和策略的影響？'],\n",
       " ['S-2-2_28', '公司是否揭露對「營業成本和營業收入」之財務規劃的影響？'],\n",
       " ['S-2-2_29', '公司是否揭露對「資本支出及資本配置」之財務規劃的影響？'],\n",
       " ['S-2-2_30', '公司是否揭露對「收購及資產分割」之財務規劃的影響？'],\n",
       " ['S-2-2_31', '公司是否揭露對「資本的取得」之財務規劃的影響？'],\n",
       " ['S-2-3_32', '公司是否描述依鑑別之重大影響性來排列氣候相關風險與機會的優先順序？'],\n",
       " ['S-2-4_33', '公司是否描述氣候相關風險與機會對財務績效（例如收入、成本）的影響？'],\n",
       " ['S-2-4_34', '公司是否描述氣候相關風險與機會對財務狀況（例如資產、負債）的影響？'],\n",
       " ['S-2-5_35', '公司是否使用氣候情境來制定其策略和財務規劃，並予以描述？'],\n",
       " ['S-2-6_36', '公司是否描述溫室氣體減量(營運溫排減量或符合投資者的減排期待)的承諾？'],\n",
       " ['S-2-6_37', '公司是否描述轉型到低碳經濟的溫室氣體減量計畫，可能包括溫室氣體排放目標和具體預期減少營運和價值鏈中的溫室氣體排放活動？'],\n",
       " ['S-3-1_38', '公司是否描述對全球升溫攝氏 2 度，或遠低於全球升溫攝氏 2 度的「轉型情境」之考量？'],\n",
       " ['S-3-1_39', '公司是否考量實體風險不斷增加的情境？'],\n",
       " ['S-3-2_40', '公司是否描述其策略可能受到氣候相關風險與機會影響的地方？'],\n",
       " ['S-3-2_41', '公司是否描述如何改變策略以因應潛在的風險與機會？'],\n",
       " ['S-3-2_42', '公司是否描述氣候相關風險與機會對財務績效（例如收入、成本）和財務狀況（例如資產、負債）的潛在影響？'],\n",
       " ['S-3-2_43', '公司是否考量氣候相關情境和相關時間範圍？'],\n",
       " ['S-3-3_44', '描述實體情境，公司是否參考公開來源的情境（實體如 IPCC RCP8.5）？'],\n",
       " ['S-3-3_45', '描述轉型情境，公司是否參考公開來源的情境（轉型如 IEA SDS）？'],\n",
       " ['R-1-1_46', '公司是否描述鑑別和評估氣候相關風險的流程？'],\n",
       " ['R-1-1_47', '公司是否描述評估氣候相關風險的流程包括認定氣候相關風險相對於其他風險的重要性是重要的？'],\n",
       " ['R-1-2_48', '公司是否描述考量既有和新興的氣候變遷法令規範及其他相關因素？'],\n",
       " ['R-1-3_49', '公司是否揭露已鑑別的氣候相關風險評估潛在規模和範圍的流程？'],\n",
       " ['R-1-3_50', '公司是否揭露所使用的風險定義或引用既有風險分類架構？'],\n",
       " ['#R-1-4_#R1', '銀行業是否考量傳統銀行業的氣候相關風險特徵，例如信用風險、市場風險、流動性風險及作業風險等？'],\n",
       " ['#R-1-5_#R2', '銀行應考量描述風險分類框架（例如，強化揭露 TCFD 定義之「主要風險和新興風險」 的框架）。'],\n",
       " ['R-2-1_51', '公司是否描述氣候相關風險的管理流程，例如公司如何做出減緩、轉移、承受或控制這些風險的決定？'],\n",
       " ['R-2-1_52', '公司是否描述對氣候相關風險進行重大性排序的流程？'],\n",
       " ['R-2-2_53', '公司是否描述風險的管理流程中對實體風險之回應？\\n(51為Y，本題須回答Y/N；51為N，本題不須作答，必為NA)'],\n",
       " ['R-2-3_54', '公司是否描述風險的管理流程中對轉型風險之回應？\\n(51為Y，本題須回答Y/N；51為N，本題不須作答，必為NA)'],\n",
       " ['R-3-1_55', '公司是否描述鑑別、評估和管理氣候相關風險的流程，如何整合於公司整體的風險管理制度？'],\n",
       " ['R-3-2_56', '公司是否描述定期審核氣候相關風險之流程？'],\n",
       " ['MT-1-1_57', '公司是否有考量提供水資源管理有關的氣候相關風險指標？'],\n",
       " ['MT-1-1_58', '公司是否有考量提供能源管理有關的氣候相關風險指標？'],\n",
       " ['MT-1-1_59', '公司是否有考量提供廢棄物管理有關的氣候相關風險指標？'],\n",
       " ['MT-1-2_60', '公司是否描述相關績效指標已經納入薪酬政策？'],\n",
       " ['MT-1-2_61', '公司是否描述相關氣候績效指標如何納入薪酬政策？'],\n",
       " ['MT-1-3_62', '公司是否提供內部碳價格資訊？'],\n",
       " ['MT-1-3_63', '公司是否提供低碳經濟有關產品或服務之營收？'],\n",
       " ['MT-1-4_64', '公司是否有歷史期間指標之趨勢分析？'],\n",
       " ['MT-1-4_65', '公司是否有氣候指標方法不易鑑別之描述？'],\n",
       " ['MT-1-5_66', '公司是否提供低碳經濟有關（含研發創新）產品或服務之營收或營收占比？'],\n",
       " ['#MT-1-6_#MT1',\n",
       "  '根據氣候相關財務揭露工作小組（TCFD）對銀行之補充指引，銀行應提供用於評估氣候相關風險（轉型及實體風險）對貸款和其他金融中介業務活動的短期、中期和長期影響的指標。指標可能與信用暴險、股權及債務持有或頭寸交易有關，指標可依下述進行細分：\\n‒ 行業\\n‒ 地理\\n‒ 信用品質（例如，投資等級或非投資等級、內部評級系統）\\n‒ 平均期限'],\n",
       " ['#MT-1-7_#MT2', '銀行是否提供碳相關資產總額與碳相關資產占總資產之百分比，以及與氣候相關機會有關之貸款金額和其他融資的金額。'],\n",
       " ['#MT-1-8_#MT3', '銀行是否使用合適的方法或指標，描述貸款及其他金融中介業務活動（如相關）與「大幅低於 2°C 情境」保持一致的程度？'],\n",
       " ['#MT-1-8_#MT4', '銀行是否描述金融中介業務活動包括何種活動（例如，向特定部門或行業提供貸款）'],\n",
       " ['MT-2-1_67', '公司是否揭露範疇一、範疇二的溫室氣體排放？'],\n",
       " ['MT-2-1_68', '公司是否揭露範疇三的溫室氣體排放？'],\n",
       " ['MT-2-1_69', '公司溫室氣體排放是否描述按照溫室氣體盤查議定書（GHG Protocol）規定的方法計算？'],\n",
       " ['MT-2-2_70', '公司是否有產業公認的溫室氣體效率比率？'],\n",
       " ['MT-2-3_71', '公司是否有提供歷史上範疇一和二溫室氣體排放量及相關指標之趨勢分析？'],\n",
       " ['MT-2-3_72', '公司是否有提供歷史上範疇三溫室氣體排放量及相關指標之趨勢分析？'],\n",
       " ['MT-2-3_73', '公司是否有計算或估算氣候指標方法不易鑑別之敘述？'],\n",
       " ['#MT-2-4_#MT5',\n",
       "  '在資料及方法允許之情況下，銀行是否揭露貸款和其他金融中介業務活動之溫室氣體排放量？排放量之計算應符合 PCAF 標準或類似方法。'],\n",
       " ['MT-3-1_74', '公司是否描述與溫室氣體排放、用水量、能源使用量等有關的目標？'],\n",
       " ['MT-3-1_75', '公司是否描述財務目標、財務損失容忍度或為低碳經濟設計的產品和服務的淨營收目標？'],\n",
       " ['MT-3-2_76', '公司設定目標時，是否包含有絕對目標或依強度為基礎之目標？'],\n",
       " ['MT-3-2_77', '公司設定目標時，是否有描述目標適用的時間範圍？'],\n",
       " ['MT-3-2_78', '公司設定目標時，是否有描述衡量進度情況的基準年份？'],\n",
       " ['MT-3-2_79', '公司設定目標時，是否有描述評估目標進展情況的重要績效指標？'],\n",
       " ['MT-3-3_80', '公司是否依總體或業務劃分揭露中期目標？'],\n",
       " ['MT-3-3_81', '公司是否依總體或業務劃分揭露長期目標？'],\n",
       " ['MT-3-4_82', '公司是否有計算目標和計量方法不易鑑別之描述？']]"
      ]
     },
     "execution_count": 30,
     "metadata": {},
     "output_type": "execute_result"
    }
   ],
   "source": [
    "questions"
   ]
  },
  {
   "cell_type": "code",
   "execution_count": 31,
   "metadata": {},
   "outputs": [],
   "source": [
    "# 設定 GPT 模型的 Token 限制\n",
    "MODEL_NAME = \"gpt-4o-mini\"\n",
    "MAX_TOKENS = 4096  # OpenAI 最大 Token 限制（請根據 API 規格調整）\n",
    "OVERLAP_TOKENS = 50  # Overlap token 數量"
   ]
  },
  {
   "cell_type": "code",
   "execution_count": 32,
   "metadata": {},
   "outputs": [],
   "source": [
    "# 初始化 Token 計數器\n",
    "tokenizer = tiktoken.encoding_for_model(MODEL_NAME)"
   ]
  },
  {
   "cell_type": "code",
   "execution_count": 36,
   "metadata": {},
   "outputs": [],
   "source": [
    "def count_tokens(text):\n",
    "    return len(tokenizer.encode(text))\n",
    "\n",
    "def split_text(text, max_tokens, overlap_tokens):\n",
    "    \"\"\"根據 Token 限制分割文本，確保有重疊部分\"\"\"\n",
    "    words = text.split()\n",
    "    chunks = []\n",
    "    start = 0\n",
    "\n",
    "    while start < len(words):\n",
    "        end = start + max_tokens\n",
    "        chunk = \" \".join(words[start:end])\n",
    "        chunks.append(chunk)\n",
    "        start = end - overlap_tokens  # Overlap 設定\n",
    "\n",
    "    return chunks\n",
    "\n",
    "def extract_text_from_pdf(pdf_path):\n",
    "    \"\"\"從 PDF 提取文字\"\"\"\n",
    "    with open(pdf_path, \"rb\") as file:\n",
    "        reader = PdfReader(file)\n",
    "        text = \"\\n\".join([page.extract_text() for page in reader.pages if page.extract_text()])\n",
    "    return text\n",
    "\n",
    "def query_gpt(chunk, question):\n",
    "    prompt = f\"\"\"\n",
    "    Here is a text chunk from a TCFD report:\n",
    "\n",
    "    {chunk}\n",
    "\n",
    "    Question: {question}\n",
    "    Does this text provide a relevant answer to the question? Answer with \"Yes\" or \"No\" only.\n",
    "    \"\"\"\n",
    "    try:\n",
    "        response = openai.chat.completions.create(\n",
    "            model=MODEL_NAME,\n",
    "            messages=[\n",
    "                {\"role\": \"system\", \"content\": \"You are an expert in climate-related financial disclosures.\"},\n",
    "                {\"role\": \"user\", \"content\": prompt}\n",
    "            ],\n",
    "            max_tokens=10\n",
    "        )\n",
    "        # Access the message content\n",
    "        return response.choices[0].message.content.strip()\n",
    "    except Exception as e:\n",
    "        print(f\"Error querying OpenAI: {e}\")\n",
    "        return \"Error\""
   ]
  },
  {
   "cell_type": "code",
   "execution_count": 37,
   "metadata": {},
   "outputs": [],
   "source": [
    "# 設定 PDF 來源資料夾\n",
    "pdf_folder = \"data/tcfd_report_pdf_for_testing\"\n",
    "output_data = []"
   ]
  },
  {
   "cell_type": "code",
   "execution_count": 39,
   "metadata": {},
   "outputs": [
    {
     "name": "stderr",
     "output_type": "stream",
     "text": [
      "100%|██████████| 6/6 [1:02:42<00:00, 627.14s/it]\n"
     ]
    }
   ],
   "source": [
    "# 遍歷所有 PDF 報告\n",
    "for pdf_file in tqdm(os.listdir(pdf_folder)):\n",
    "    if not pdf_file.endswith(\".pdf\"):\n",
    "        continue\n",
    "\n",
    "    pdf_path = os.path.join(pdf_folder, pdf_file)\n",
    "    text = extract_text_from_pdf(pdf_path)\n",
    "\n",
    "    # 分割文本\n",
    "    chunks = split_text(text, MAX_TOKENS, OVERLAP_TOKENS)\n",
    "\n",
    "    for chunk_id, chunk in enumerate(chunks):\n",
    "        for label, question in questions:\n",
    "            answer = query_gpt(chunk, question)\n",
    "            output_data.append([pdf_file, chunk_id, label, question, answer])"
   ]
  },
  {
   "cell_type": "code",
   "execution_count": 42,
   "metadata": {},
   "outputs": [
    {
     "name": "stdout",
     "output_type": "stream",
     "text": [
      "處理完成，結果已儲存至 data/llm_question_answering_results/tcfd_gpt_results.csv\n"
     ]
    }
   ],
   "source": [
    "# 儲存結果到 CSV\n",
    "output_df = pd.DataFrame(output_data, columns=[\"Report\", \"Chunk ID\", \"Label\", \"Question\", \"Answer\"])\n",
    "output_df.to_csv(\"data/llm_question_answering_results/tcfd_gpt_results.csv\", index=False)\n",
    "\n",
    "print(\"處理完成，結果已儲存至 data/llm_question_answering_results/tcfd_gpt_results.csv\")"
   ]
  },
  {
   "cell_type": "code",
   "execution_count": null,
   "metadata": {},
   "outputs": [],
   "source": []
  }
 ],
 "metadata": {
  "kernelspec": {
   "display_name": "venv",
   "language": "python",
   "name": "python3"
  },
  "language_info": {
   "codemirror_mode": {
    "name": "ipython",
    "version": 3
   },
   "file_extension": ".py",
   "mimetype": "text/x-python",
   "name": "python",
   "nbconvert_exporter": "python",
   "pygments_lexer": "ipython3",
   "version": "3.11.0"
  }
 },
 "nbformat": 4,
 "nbformat_minor": 2
}
