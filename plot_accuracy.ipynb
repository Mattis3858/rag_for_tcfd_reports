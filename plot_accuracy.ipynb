{
 "cells": [
  {
   "cell_type": "markdown",
   "metadata": {},
   "source": [
    "Plot Accuracy"
   ]
  },
  {
   "cell_type": "code",
   "execution_count": null,
   "metadata": {},
   "outputs": [],
   "source": [
    "# plot_accuracy.ipynb\n",
    "\n",
    "import os\n",
    "import pandas as pd\n",
    "import matplotlib.pyplot as plt\n",
    "\n",
    "# 設置支持 CJK 字符的字型\n",
    "plt.rcParams['font.sans-serif'] = ['Microsoft YaHei']  # 可以根據需要更換為其他支持 CJK 的字型，如 'SimHei', 'Noto Sans CJK'\n",
    "plt.rcParams['axes.unicode_minus'] = False  # 正確顯示負號\n",
    "\n",
    "def load_threshold_accuracy(csv_path):\n",
    "    \"\"\"\n",
    "    載入閾值與平均準確率的數據。\n",
    "    \"\"\"\n",
    "    if not os.path.exists(csv_path):\n",
    "        print(f\"[ERROR] 數據文件不存在: {csv_path}\")\n",
    "        return None, None\n",
    "    \n",
    "    df = pd.read_csv(csv_path)\n",
    "    thresholds = df['threshold'].tolist()\n",
    "    accuracies = df['average_accuracy'].tolist()\n",
    "    return thresholds, accuracies\n",
    "\n",
    "def plot_accuracy(thresholds, accuracies, save_path=None):\n",
    "    \"\"\"\n",
    "    繪製閾值與平均準確率的趨勢圖。\n",
    "    \"\"\"\n",
    "    plt.figure(figsize=(10, 6))\n",
    "    plt.plot(thresholds, [acc * 100 for acc in accuracies], label='平均準確率', color='blue')\n",
    "    plt.xlabel('閾值')\n",
    "    plt.ylabel('平均準確率 (%)')\n",
    "    plt.title('平均準確率與閾值的趨勢圖')\n",
    "    plt.grid(True)\n",
    "    plt.legend()\n",
    "    plt.tight_layout()\n",
    "    if save_path:\n",
    "        plt.savefig(save_path)\n",
    "        print(f\"[INFO] 趨勢圖已保存至: {save_path}\")\n",
    "    plt.show()\n",
    "\n",
    "# 定義數據文件路徑\n",
    "accuracy_result_base = \"rag_for_tcfd_reports/data/accuracy_result\"\n",
    "csv_filename = \"thresholds_accuracy.csv\"\n",
    "csv_path = os.path.join(accuracy_result_base, csv_filename)\n",
    "\n",
    "# 定義保存圖表的路徑（可選）\n",
    "plot_path = os.path.join(accuracy_result_base, \"accuracy_vs_threshold.png\")\n",
    "\n",
    "# 載入數據\n",
    "thresholds, accuracies = load_threshold_accuracy(csv_path)\n",
    "if thresholds is not None and accuracies is not None:\n",
    "    print(f\"[INFO] 已載入 {len(thresholds)} 個閾值與平均準確率數據。\")\n",
    "\n",
    "    # 繪製趨勢圖\n",
    "    plot_accuracy(thresholds, accuracies, save_path=plot_path)\n"
   ]
  }
 ],
 "metadata": {
  "kernelspec": {
   "display_name": "venv",
   "language": "python",
   "name": "python3"
  },
  "language_info": {
   "name": "python",
   "version": "3.11.0"
  }
 },
 "nbformat": 4,
 "nbformat_minor": 2
}
